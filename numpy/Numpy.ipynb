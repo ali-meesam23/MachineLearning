{
 "cells": [
  {
   "cell_type": "code",
   "execution_count": 1,
   "metadata": {},
   "outputs": [],
   "source": [
    "import numpy as np"
   ]
  },
  {
   "cell_type": "code",
   "execution_count": 2,
   "metadata": {},
   "outputs": [],
   "source": [
    "list_a = [1,2,3,4,5]"
   ]
  },
  {
   "cell_type": "code",
   "execution_count": 3,
   "metadata": {},
   "outputs": [
    {
     "data": {
      "text/plain": [
       "array([1, 2, 3, 4, 5])"
      ]
     },
     "execution_count": 3,
     "metadata": {},
     "output_type": "execute_result"
    }
   ],
   "source": [
    "np.array(list_a)"
   ]
  },
  {
   "cell_type": "markdown",
   "metadata": {},
   "source": [
    "# arange"
   ]
  },
  {
   "cell_type": "code",
   "execution_count": 4,
   "metadata": {},
   "outputs": [
    {
     "data": {
      "text/plain": [
       "array([0, 1, 2, 3, 4, 5, 6, 7, 8, 9])"
      ]
     },
     "execution_count": 4,
     "metadata": {},
     "output_type": "execute_result"
    }
   ],
   "source": [
    "np.arange(0,10)"
   ]
  },
  {
   "cell_type": "code",
   "execution_count": 5,
   "metadata": {},
   "outputs": [
    {
     "data": {
      "text/plain": [
       "array([0, 3, 6, 9])"
      ]
     },
     "execution_count": 5,
     "metadata": {},
     "output_type": "execute_result"
    }
   ],
   "source": [
    "np.arange(0,10,3)"
   ]
  },
  {
   "cell_type": "markdown",
   "metadata": {},
   "source": [
    "# module zero, one"
   ]
  },
  {
   "cell_type": "code",
   "execution_count": 6,
   "metadata": {},
   "outputs": [],
   "source": [
    "size=(7,3)"
   ]
  },
  {
   "cell_type": "code",
   "execution_count": 7,
   "metadata": {},
   "outputs": [],
   "source": [
    "matrix = np.ones(size)"
   ]
  },
  {
   "cell_type": "code",
   "execution_count": 8,
   "metadata": {},
   "outputs": [],
   "source": [
    "matrix = np.zeros(size)"
   ]
  },
  {
   "cell_type": "code",
   "execution_count": 9,
   "metadata": {},
   "outputs": [
    {
     "data": {
      "text/plain": [
       "array([[0., 0., 0.],\n",
       "       [0., 0., 0.],\n",
       "       [0., 0., 0.],\n",
       "       [0., 0., 0.],\n",
       "       [0., 0., 0.],\n",
       "       [0., 0., 0.],\n",
       "       [0., 0., 0.]])"
      ]
     },
     "execution_count": 9,
     "metadata": {},
     "output_type": "execute_result"
    }
   ],
   "source": [
    "matrix"
   ]
  },
  {
   "cell_type": "markdown",
   "metadata": {},
   "source": [
    "# random"
   ]
  },
  {
   "cell_type": "code",
   "execution_count": 10,
   "metadata": {},
   "outputs": [
    {
     "data": {
      "text/plain": [
       "array([[72, 39, 25],\n",
       "       [85,  3, 28],\n",
       "       [10, 89, 56],\n",
       "       [43,  3, 63],\n",
       "       [36, 18, 91],\n",
       "       [56, 49,  2],\n",
       "       [77, 97,  2]])"
      ]
     },
     "execution_count": 10,
     "metadata": {},
     "output_type": "execute_result"
    }
   ],
   "source": [
    "np.random.randint(low=0,high=100,size=size)"
   ]
  },
  {
   "cell_type": "markdown",
   "metadata": {},
   "source": [
    "# linear space"
   ]
  },
  {
   "cell_type": "code",
   "execution_count": 11,
   "metadata": {},
   "outputs": [
    {
     "name": "stdout",
     "output_type": "stream",
     "text": [
      "[ 0.          1.42857143  2.85714286  4.28571429  5.71428571  7.14285714\n",
      "  8.57142857 10.        ]\n"
     ]
    }
   ],
   "source": [
    "# y = mx + b\n",
    "x = 0\n",
    "y = 10\n",
    "nb_val = 8\n",
    "matrix = np.linspace(x,y,nb_val)\n",
    "print(matrix)"
   ]
  },
  {
   "cell_type": "code",
   "execution_count": 12,
   "metadata": {},
   "outputs": [
    {
     "data": {
      "text/plain": [
       "array([30.        , 30.46464646, 30.92929293, 31.39393939, 31.85858586,\n",
       "       32.32323232, 32.78787879, 33.25252525, 33.71717172, 34.18181818,\n",
       "       34.64646465, 35.11111111, 35.57575758, 36.04040404, 36.50505051,\n",
       "       36.96969697, 37.43434343, 37.8989899 , 38.36363636, 38.82828283,\n",
       "       39.29292929, 39.75757576, 40.22222222, 40.68686869, 41.15151515,\n",
       "       41.61616162, 42.08080808, 42.54545455, 43.01010101, 43.47474747,\n",
       "       43.93939394, 44.4040404 , 44.86868687, 45.33333333, 45.7979798 ,\n",
       "       46.26262626, 46.72727273, 47.19191919, 47.65656566, 48.12121212,\n",
       "       48.58585859, 49.05050505, 49.51515152, 49.97979798, 50.44444444,\n",
       "       50.90909091, 51.37373737, 51.83838384, 52.3030303 , 52.76767677,\n",
       "       53.23232323, 53.6969697 , 54.16161616, 54.62626263, 55.09090909,\n",
       "       55.55555556, 56.02020202, 56.48484848, 56.94949495, 57.41414141,\n",
       "       57.87878788, 58.34343434, 58.80808081, 59.27272727, 59.73737374,\n",
       "       60.2020202 , 60.66666667, 61.13131313, 61.5959596 , 62.06060606,\n",
       "       62.52525253, 62.98989899, 63.45454545, 63.91919192, 64.38383838,\n",
       "       64.84848485, 65.31313131, 65.77777778, 66.24242424, 66.70707071,\n",
       "       67.17171717, 67.63636364, 68.1010101 , 68.56565657, 69.03030303,\n",
       "       69.49494949, 69.95959596, 70.42424242, 70.88888889, 71.35353535,\n",
       "       71.81818182, 72.28282828, 72.74747475, 73.21212121, 73.67676768,\n",
       "       74.14141414, 74.60606061, 75.07070707, 75.53535354, 76.        ])"
      ]
     },
     "execution_count": 12,
     "metadata": {},
     "output_type": "execute_result"
    }
   ],
   "source": [
    "np.linspace(start=30,stop=76,num=100)"
   ]
  },
  {
   "cell_type": "markdown",
   "metadata": {},
   "source": [
    "# regression"
   ]
  },
  {
   "cell_type": "code",
   "execution_count": 13,
   "metadata": {},
   "outputs": [],
   "source": [
    "# randomize array\n",
    "arr = np.random.randint(low=0,high=100,size=80)"
   ]
  },
  {
   "cell_type": "code",
   "execution_count": 14,
   "metadata": {},
   "outputs": [
    {
     "name": "stdout",
     "output_type": "stream",
     "text": [
      "97\n",
      "0\n",
      "46.2875\n",
      "27.42772035277449\n",
      "752.2798437499999\n",
      "752.2798437499999\n"
     ]
    }
   ],
   "source": [
    "print(arr.max())\n",
    "print(arr.min())\n",
    "print(arr.mean())\n",
    "print(arr.std())\n",
    "print(arr.var())\n",
    "print(arr.std()**2)"
   ]
  },
  {
   "cell_type": "markdown",
   "metadata": {},
   "source": [
    "# 2d and 3d array"
   ]
  },
  {
   "cell_type": "code",
   "execution_count": 15,
   "metadata": {},
   "outputs": [
    {
     "name": "stdout",
     "output_type": "stream",
     "text": [
      "[ 61 175 127 145 109  77   6  50 108 192  23 179   6  61 112 152  78  41\n",
      " 134 197 108   2  87  88]\n"
     ]
    }
   ],
   "source": [
    "arr = np.random.randint(low=0,high=200,size=24)\n",
    "print(arr)"
   ]
  },
  {
   "cell_type": "code",
   "execution_count": 16,
   "metadata": {},
   "outputs": [
    {
     "name": "stdout",
     "output_type": "stream",
     "text": [
      "[[ 61 175 127]\n",
      " [145 109  77]\n",
      " [  6  50 108]\n",
      " [192  23 179]\n",
      " [  6  61 112]\n",
      " [152  78  41]\n",
      " [134 197 108]\n",
      " [  2  87  88]]\n"
     ]
    }
   ],
   "source": [
    "matrix = arr.reshape(8,3)\n",
    "print(matrix)"
   ]
  },
  {
   "cell_type": "markdown",
   "metadata": {},
   "source": [
    "# locate"
   ]
  },
  {
   "cell_type": "code",
   "execution_count": 17,
   "metadata": {},
   "outputs": [
    {
     "data": {
      "text/plain": [
       "108"
      ]
     },
     "execution_count": 17,
     "metadata": {},
     "output_type": "execute_result"
    }
   ],
   "source": [
    "# 3rd row and 3rd column\n",
    "matrix[2,2]"
   ]
  },
  {
   "cell_type": "markdown",
   "metadata": {},
   "source": [
    "# filtering"
   ]
  },
  {
   "cell_type": "code",
   "execution_count": 18,
   "metadata": {},
   "outputs": [
    {
     "data": {
      "text/plain": [
       "array([175, 127, 145, 109, 108, 192, 179, 112, 152, 134, 197, 108])"
      ]
     },
     "execution_count": 18,
     "metadata": {},
     "output_type": "execute_result"
    }
   ],
   "source": [
    "matrix[matrix>100]"
   ]
  },
  {
   "cell_type": "markdown",
   "metadata": {},
   "source": [
    "# seed"
   ]
  },
  {
   "cell_type": "code",
   "execution_count": 19,
   "metadata": {},
   "outputs": [
    {
     "data": {
      "text/plain": [
       "array([91, 31, 99, 44, 39, 77, 58, 45, 10, 74])"
      ]
     },
     "execution_count": 19,
     "metadata": {},
     "output_type": "execute_result"
    }
   ],
   "source": [
    "# Fix randomization for A compilation\n",
    "np.random.seed(707)\n",
    "random_matrix = np.random.randint(low=0,high=100,size=10)\n",
    "random_matrix"
   ]
  },
  {
   "cell_type": "code",
   "execution_count": 20,
   "metadata": {},
   "outputs": [
    {
     "data": {
      "text/plain": [
       "array([67,  2, 86, 91, 90, 74, 73, 20, 45, 28])"
      ]
     },
     "execution_count": 20,
     "metadata": {},
     "output_type": "execute_result"
    }
   ],
   "source": [
    "random_matrix = np.random.randint(low=0,high=100,size=10)\n",
    "random_matrix"
   ]
  },
  {
   "cell_type": "code",
   "execution_count": 21,
   "metadata": {},
   "outputs": [
    {
     "data": {
      "text/plain": [
       "array([91, 31, 99, 44, 39, 77, 58, 45, 10, 74])"
      ]
     },
     "execution_count": 21,
     "metadata": {},
     "output_type": "execute_result"
    }
   ],
   "source": [
    "np.random.seed(707)\n",
    "random_matrix = np.random.randint(low=0,high=100,size=10)\n",
    "random_matrix"
   ]
  },
  {
   "cell_type": "code",
   "execution_count": 22,
   "metadata": {},
   "outputs": [
    {
     "data": {
      "text/plain": [
       "array([[[91],\n",
       "        [31],\n",
       "        [99],\n",
       "        [44],\n",
       "        [39]],\n",
       "\n",
       "       [[77],\n",
       "        [58],\n",
       "        [45],\n",
       "        [10],\n",
       "        [74]]])"
      ]
     },
     "execution_count": 22,
     "metadata": {},
     "output_type": "execute_result"
    }
   ],
   "source": [
    "# 3d with 2 arrays 5R X 1C\n",
    "random_matrix.reshape(2,5,1)"
   ]
  },
  {
   "cell_type": "code",
   "execution_count": null,
   "metadata": {},
   "outputs": [],
   "source": []
  },
  {
   "cell_type": "code",
   "execution_count": null,
   "metadata": {},
   "outputs": [],
   "source": []
  },
  {
   "cell_type": "code",
   "execution_count": null,
   "metadata": {},
   "outputs": [],
   "source": []
  },
  {
   "cell_type": "code",
   "execution_count": null,
   "metadata": {},
   "outputs": [],
   "source": []
  },
  {
   "cell_type": "code",
   "execution_count": null,
   "metadata": {},
   "outputs": [],
   "source": []
  }
 ],
 "metadata": {
  "kernelspec": {
   "display_name": "Python 3",
   "language": "python",
   "name": "python3"
  },
  "language_info": {
   "codemirror_mode": {
    "name": "ipython",
    "version": 3
   },
   "file_extension": ".py",
   "mimetype": "text/x-python",
   "name": "python",
   "nbconvert_exporter": "python",
   "pygments_lexer": "ipython3",
   "version": "3.6.9"
  }
 },
 "nbformat": 4,
 "nbformat_minor": 4
}
