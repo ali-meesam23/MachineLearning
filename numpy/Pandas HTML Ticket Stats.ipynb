{
 "cells": [
  {
   "cell_type": "code",
   "execution_count": 1,
   "metadata": {},
   "outputs": [],
   "source": [
    "import numpy as np\n",
    "import pandas as pd"
   ]
  },
  {
   "cell_type": "code",
   "execution_count": 2,
   "metadata": {},
   "outputs": [],
   "source": [
    "import os"
   ]
  },
  {
   "cell_type": "code",
   "execution_count": 3,
   "metadata": {},
   "outputs": [],
   "source": [
    "def check_list(item):\n",
    "    _check = ['.xlsx','.csv']"
   ]
  },
  {
   "cell_type": "code",
   "execution_count": 4,
   "metadata": {},
   "outputs": [],
   "source": [
    "# GET THE LIST OF TICKERS\n",
    "tickers = [f.split(\".\")[0] for f  in os.listdir('/Users/meesam/Coding Finance/DownloadedData/DailyTickers/') if ('.csv' in f or '.xlsx' in f)]"
   ]
  },
  {
   "cell_type": "code",
   "execution_count": 6,
   "metadata": {},
   "outputs": [],
   "source": [
    "ticker = 'IPOE'\n",
    "ticker_stats = pd.read_html(f'https://finance.yahoo.com/quote/{ticker}/key-statistics?p={ticker}')"
   ]
  },
  {
   "cell_type": "code",
   "execution_count": 8,
   "metadata": {},
   "outputs": [],
   "source": [
    "df = ticker_stats[0]"
   ]
  },
  {
   "cell_type": "code",
   "execution_count": 12,
   "metadata": {},
   "outputs": [],
   "source": [
    "df.rename(columns={\n",
    "    0:tables[0],\n",
    "    1:ticker\n",
    "}, inplace=True)\n",
    "df.set_index(tables[0],inplace=True)"
   ]
  },
  {
   "cell_type": "code",
   "execution_count": 13,
   "metadata": {},
   "outputs": [
    {
     "data": {
      "text/html": [
       "<div>\n",
       "<style scoped>\n",
       "    .dataframe tbody tr th:only-of-type {\n",
       "        vertical-align: middle;\n",
       "    }\n",
       "\n",
       "    .dataframe tbody tr th {\n",
       "        vertical-align: top;\n",
       "    }\n",
       "\n",
       "    .dataframe thead th {\n",
       "        text-align: right;\n",
       "    }\n",
       "</style>\n",
       "<table border=\"1\" class=\"dataframe\">\n",
       "  <thead>\n",
       "    <tr style=\"text-align: right;\">\n",
       "      <th></th>\n",
       "      <th>IPOE</th>\n",
       "    </tr>\n",
       "    <tr>\n",
       "      <th>Valuation Measures</th>\n",
       "      <th></th>\n",
       "    </tr>\n",
       "  </thead>\n",
       "  <tbody>\n",
       "    <tr>\n",
       "      <th>Market Cap (intraday) 5</th>\n",
       "      <td>1.85B</td>\n",
       "    </tr>\n",
       "    <tr>\n",
       "      <th>Enterprise Value 3</th>\n",
       "      <td>1.9B</td>\n",
       "    </tr>\n",
       "    <tr>\n",
       "      <th>Trailing P/E</th>\n",
       "      <td>NaN</td>\n",
       "    </tr>\n",
       "    <tr>\n",
       "      <th>Forward P/E 1</th>\n",
       "      <td>NaN</td>\n",
       "    </tr>\n",
       "    <tr>\n",
       "      <th>PEG Ratio (5 yr expected) 1</th>\n",
       "      <td>NaN</td>\n",
       "    </tr>\n",
       "    <tr>\n",
       "      <th>Price/Sales (ttm)</th>\n",
       "      <td>NaN</td>\n",
       "    </tr>\n",
       "    <tr>\n",
       "      <th>Price/Book (mrq)</th>\n",
       "      <td>NaN</td>\n",
       "    </tr>\n",
       "    <tr>\n",
       "      <th>Enterprise Value/Revenue 3</th>\n",
       "      <td>NaN</td>\n",
       "    </tr>\n",
       "    <tr>\n",
       "      <th>Enterprise Value/EBITDA 6</th>\n",
       "      <td>NaN</td>\n",
       "    </tr>\n",
       "  </tbody>\n",
       "</table>\n",
       "</div>"
      ],
      "text/plain": [
       "                              IPOE\n",
       "Valuation Measures                \n",
       "Market Cap (intraday) 5      1.85B\n",
       "Enterprise Value 3            1.9B\n",
       "Trailing P/E                   NaN\n",
       "Forward P/E 1                  NaN\n",
       "PEG Ratio (5 yr expected) 1    NaN\n",
       "Price/Sales (ttm)              NaN\n",
       "Price/Book (mrq)               NaN\n",
       "Enterprise Value/Revenue 3     NaN\n",
       "Enterprise Value/EBITDA 6      NaN"
      ]
     },
     "execution_count": 13,
     "metadata": {},
     "output_type": "execute_result"
    }
   ],
   "source": [
    "df"
   ]
  },
  {
   "cell_type": "code",
   "execution_count": null,
   "metadata": {},
   "outputs": [],
   "source": [
    "len(ticker_stats)"
   ]
  },
  {
   "cell_type": "code",
   "execution_count": 10,
   "metadata": {},
   "outputs": [],
   "source": [
    "tables = [\n",
    "    'Valuation Measures',\n",
    "    'Stock Price History',\n",
    "    'Share Statistics',\n",
    "    'Dividends & Splits',\n",
    "    'Fiscal Year',\n",
    "    'Profitability',\n",
    "    'Management Effectiveness',\n",
    "    'Income Statement',\n",
    "    'Balance Sheet',\n",
    "    'Cash Flow Statement'\n",
    "]\n",
    "\n",
    "ticker_stats_dict = {}\n",
    "for i in range(len(tables)):\n",
    "    ticker_stats_dict[tables[i]] = ticker_stats[i]"
   ]
  },
  {
   "cell_type": "code",
   "execution_count": null,
   "metadata": {},
   "outputs": [],
   "source": [
    "ticker_stats_dict['Stock Price History'].index = ticker_stats_dict['Stock Price History'][0]"
   ]
  },
  {
   "cell_type": "code",
   "execution_count": null,
   "metadata": {},
   "outputs": [],
   "source": [
    "ticker_stats_dict['Stock Price History']"
   ]
  },
  {
   "cell_type": "code",
   "execution_count": null,
   "metadata": {},
   "outputs": [],
   "source": [
    "pd.read_html('https://finance.yahoo.com/quote/IPOE/key-statistics?p=IPOE',match='Financial Highlights')"
   ]
  },
  {
   "cell_type": "code",
   "execution_count": null,
   "metadata": {},
   "outputs": [],
   "source": [
    "ticker_stats[4]"
   ]
  },
  {
   "cell_type": "code",
   "execution_count": null,
   "metadata": {},
   "outputs": [],
   "source": []
  }
 ],
 "metadata": {
  "kernelspec": {
   "display_name": "Python 3",
   "language": "python",
   "name": "python3"
  },
  "language_info": {
   "codemirror_mode": {
    "name": "ipython",
    "version": 3
   },
   "file_extension": ".py",
   "mimetype": "text/x-python",
   "name": "python",
   "nbconvert_exporter": "python",
   "pygments_lexer": "ipython3",
   "version": "3.8.0"
  }
 },
 "nbformat": 4,
 "nbformat_minor": 2
}
