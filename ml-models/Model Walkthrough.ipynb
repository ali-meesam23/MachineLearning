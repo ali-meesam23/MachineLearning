{
 "cells": [
  {
   "cell_type": "code",
   "execution_count": 1,
   "metadata": {},
   "outputs": [],
   "source": [
    "import tensorflow as tf\n",
    "import pandas as pd\n",
    "import numpy as np"
   ]
  },
  {
   "cell_type": "code",
   "execution_count": 2,
   "metadata": {},
   "outputs": [],
   "source": [
    "data = pd.read_csv('../DataSetInput_Pipeline/train.csv')"
   ]
  },
  {
   "cell_type": "code",
   "execution_count": 3,
   "metadata": {},
   "outputs": [
    {
     "data": {
      "text/html": [
       "<div>\n",
       "<style scoped>\n",
       "    .dataframe tbody tr th:only-of-type {\n",
       "        vertical-align: middle;\n",
       "    }\n",
       "\n",
       "    .dataframe tbody tr th {\n",
       "        vertical-align: top;\n",
       "    }\n",
       "\n",
       "    .dataframe thead th {\n",
       "        text-align: right;\n",
       "    }\n",
       "</style>\n",
       "<table border=\"1\" class=\"dataframe\">\n",
       "  <thead>\n",
       "    <tr style=\"text-align: right;\">\n",
       "      <th></th>\n",
       "      <th>PassengerId</th>\n",
       "      <th>Survived</th>\n",
       "      <th>Pclass</th>\n",
       "      <th>Name</th>\n",
       "      <th>Sex</th>\n",
       "      <th>Age</th>\n",
       "      <th>SibSp</th>\n",
       "      <th>Parch</th>\n",
       "      <th>Ticket</th>\n",
       "      <th>Fare</th>\n",
       "      <th>Cabin</th>\n",
       "      <th>Embarked</th>\n",
       "    </tr>\n",
       "  </thead>\n",
       "  <tbody>\n",
       "    <tr>\n",
       "      <th>0</th>\n",
       "      <td>1</td>\n",
       "      <td>0</td>\n",
       "      <td>3</td>\n",
       "      <td>Braund, Mr. Owen Harris</td>\n",
       "      <td>male</td>\n",
       "      <td>22.0</td>\n",
       "      <td>1</td>\n",
       "      <td>0</td>\n",
       "      <td>A/5 21171</td>\n",
       "      <td>7.2500</td>\n",
       "      <td>NaN</td>\n",
       "      <td>S</td>\n",
       "    </tr>\n",
       "    <tr>\n",
       "      <th>1</th>\n",
       "      <td>2</td>\n",
       "      <td>1</td>\n",
       "      <td>1</td>\n",
       "      <td>Cumings, Mrs. John Bradley (Florence Briggs Th...</td>\n",
       "      <td>female</td>\n",
       "      <td>38.0</td>\n",
       "      <td>1</td>\n",
       "      <td>0</td>\n",
       "      <td>PC 17599</td>\n",
       "      <td>71.2833</td>\n",
       "      <td>C85</td>\n",
       "      <td>C</td>\n",
       "    </tr>\n",
       "    <tr>\n",
       "      <th>2</th>\n",
       "      <td>3</td>\n",
       "      <td>1</td>\n",
       "      <td>3</td>\n",
       "      <td>Heikkinen, Miss. Laina</td>\n",
       "      <td>female</td>\n",
       "      <td>26.0</td>\n",
       "      <td>0</td>\n",
       "      <td>0</td>\n",
       "      <td>STON/O2. 3101282</td>\n",
       "      <td>7.9250</td>\n",
       "      <td>NaN</td>\n",
       "      <td>S</td>\n",
       "    </tr>\n",
       "    <tr>\n",
       "      <th>3</th>\n",
       "      <td>4</td>\n",
       "      <td>1</td>\n",
       "      <td>1</td>\n",
       "      <td>Futrelle, Mrs. Jacques Heath (Lily May Peel)</td>\n",
       "      <td>female</td>\n",
       "      <td>35.0</td>\n",
       "      <td>1</td>\n",
       "      <td>0</td>\n",
       "      <td>113803</td>\n",
       "      <td>53.1000</td>\n",
       "      <td>C123</td>\n",
       "      <td>S</td>\n",
       "    </tr>\n",
       "    <tr>\n",
       "      <th>4</th>\n",
       "      <td>5</td>\n",
       "      <td>0</td>\n",
       "      <td>3</td>\n",
       "      <td>Allen, Mr. William Henry</td>\n",
       "      <td>male</td>\n",
       "      <td>35.0</td>\n",
       "      <td>0</td>\n",
       "      <td>0</td>\n",
       "      <td>373450</td>\n",
       "      <td>8.0500</td>\n",
       "      <td>NaN</td>\n",
       "      <td>S</td>\n",
       "    </tr>\n",
       "  </tbody>\n",
       "</table>\n",
       "</div>"
      ],
      "text/plain": [
       "   PassengerId  Survived  Pclass  \\\n",
       "0            1         0       3   \n",
       "1            2         1       1   \n",
       "2            3         1       3   \n",
       "3            4         1       1   \n",
       "4            5         0       3   \n",
       "\n",
       "                                                Name     Sex   Age  SibSp  \\\n",
       "0                            Braund, Mr. Owen Harris    male  22.0      1   \n",
       "1  Cumings, Mrs. John Bradley (Florence Briggs Th...  female  38.0      1   \n",
       "2                             Heikkinen, Miss. Laina  female  26.0      0   \n",
       "3       Futrelle, Mrs. Jacques Heath (Lily May Peel)  female  35.0      1   \n",
       "4                           Allen, Mr. William Henry    male  35.0      0   \n",
       "\n",
       "   Parch            Ticket     Fare Cabin Embarked  \n",
       "0      0         A/5 21171   7.2500   NaN        S  \n",
       "1      0          PC 17599  71.2833   C85        C  \n",
       "2      0  STON/O2. 3101282   7.9250   NaN        S  \n",
       "3      0            113803  53.1000  C123        S  \n",
       "4      0            373450   8.0500   NaN        S  "
      ]
     },
     "execution_count": 3,
     "metadata": {},
     "output_type": "execute_result"
    }
   ],
   "source": [
    "data.head()"
   ]
  },
  {
   "cell_type": "code",
   "execution_count": 4,
   "metadata": {},
   "outputs": [
    {
     "data": {
      "text/plain": [
       "array(['S', 'C', 'Q', nan], dtype=object)"
      ]
     },
     "execution_count": 4,
     "metadata": {},
     "output_type": "execute_result"
    }
   ],
   "source": [
    "data.Embarked.unique()"
   ]
  },
  {
   "cell_type": "code",
   "execution_count": 5,
   "metadata": {},
   "outputs": [],
   "source": [
    "# NEED TO ASSIGN # TO EMBARKED ELEMENTS BETWEEN 0 AND 1"
   ]
  },
  {
   "cell_type": "code",
   "execution_count": 6,
   "metadata": {},
   "outputs": [],
   "source": [
    "# NORMALIZING PCLASS\n",
    "p_class_max = data.Pclass.max()\n",
    "data['pclass_norm'] = data['Pclass'].apply(lambda x: x/p_class_max)"
   ]
  },
  {
   "cell_type": "code",
   "execution_count": 8,
   "metadata": {},
   "outputs": [],
   "source": [
    "age_max = data.Pclass.max()\n",
    "data['age_norm'] = data['Age'].apply(lambda x: x/p_class_max)"
   ]
  },
  {
   "cell_type": "code",
   "execution_count": 10,
   "metadata": {},
   "outputs": [],
   "source": [
    "data['sex_norm'] = data['Sex'].apply(lambda x: 0 if x=='male' else 1)"
   ]
  },
  {
   "cell_type": "code",
   "execution_count": 12,
   "metadata": {},
   "outputs": [],
   "source": [
    "def embarked2num(x):\n",
    "    if x == 'S':\n",
    "        return 1.0\n",
    "    elif x == 'C':\n",
    "        return 2/3\n",
    "    elif x == 'Q':\n",
    "        return 1/3\n",
    "    else:\n",
    "        return 0\n",
    "    \n",
    "data['embarked_norm'] = data['Embarked'].apply(embarked2num)"
   ]
  },
  {
   "cell_type": "code",
   "execution_count": 13,
   "metadata": {},
   "outputs": [],
   "source": [
    "# Pass each of the input columns into input array\n",
    "inputs = data[['pclass_norm','sex_norm','age_norm','embarked_norm']].fillna(0).values"
   ]
  },
  {
   "cell_type": "code",
   "execution_count": 15,
   "metadata": {},
   "outputs": [],
   "source": [
    "survived_arr = data['Survived']"
   ]
  },
  {
   "cell_type": "code",
   "execution_count": 17,
   "metadata": {},
   "outputs": [],
   "source": [
    "labels = np.zeros((survived_arr.size,survived_arr.max()+1))"
   ]
  },
  {
   "cell_type": "code",
   "execution_count": 20,
   "metadata": {},
   "outputs": [],
   "source": [
    "labels[np.arange(survived_arr.size),survived_arr] = 1"
   ]
  },
  {
   "cell_type": "code",
   "execution_count": 21,
   "metadata": {},
   "outputs": [
    {
     "data": {
      "text/plain": [
       "array([[1., 0.],\n",
       "       [0., 1.],\n",
       "       [0., 1.],\n",
       "       ...,\n",
       "       [1., 0.],\n",
       "       [0., 1.],\n",
       "       [1., 0.]])"
      ]
     },
     "execution_count": 21,
     "metadata": {},
     "output_type": "execute_result"
    }
   ],
   "source": [
    "labels"
   ]
  },
  {
   "cell_type": "code",
   "execution_count": 22,
   "metadata": {},
   "outputs": [],
   "source": [
    "dataset = tf.data.Dataset.from_tensor_slices((inputs,labels))"
   ]
  },
  {
   "cell_type": "code",
   "execution_count": 24,
   "metadata": {},
   "outputs": [
    {
     "name": "stdout",
     "output_type": "stream",
     "text": [
      "(<tf.Tensor: shape=(4,), dtype=float64, numpy=array([1.        , 0.        , 7.33333333, 1.        ])>, <tf.Tensor: shape=(2,), dtype=float64, numpy=array([1., 0.])>)\n"
     ]
    }
   ],
   "source": [
    "for item in dataset.take(1):\n",
    "    print(item)"
   ]
  },
  {
   "cell_type": "code",
   "execution_count": 26,
   "metadata": {},
   "outputs": [],
   "source": [
    "dataset = dataset.shuffle(10000).batch(16,drop_remainder=True)"
   ]
  },
  {
   "cell_type": "code",
   "execution_count": 34,
   "metadata": {},
   "outputs": [],
   "source": [
    "# Using sequential approach\n",
    "\n",
    "\n",
    "# using 3 layers\n",
    "model = tf.keras.Sequential(\n",
    "    [\n",
    "        #DEFINE INPUT SHAPE\n",
    "        tf.keras.layers.Dense(16,input_shape=(4,), activation='relu'),\n",
    "        #RECTIFIED LINEAR ACTIVATION\n",
    "        tf.keras.layers.Dense(8, activation='relu'),\n",
    "        #OUTPUT LAYER\n",
    "        tf.keras.layers.Dense(2, activation='softmax')\n",
    "    ]\n",
    ")"
   ]
  },
  {
   "cell_type": "code",
   "execution_count": 35,
   "metadata": {},
   "outputs": [
    {
     "name": "stdout",
     "output_type": "stream",
     "text": [
      "Model: \"sequential\"\n",
      "_________________________________________________________________\n",
      "Layer (type)                 Output Shape              Param #   \n",
      "=================================================================\n",
      "dense_6 (Dense)              (None, 16)                80        \n",
      "_________________________________________________________________\n",
      "dense_7 (Dense)              (None, 8)                 136       \n",
      "_________________________________________________________________\n",
      "dense_8 (Dense)              (None, 2)                 18        \n",
      "=================================================================\n",
      "Total params: 234\n",
      "Trainable params: 234\n",
      "Non-trainable params: 0\n",
      "_________________________________________________________________\n"
     ]
    }
   ],
   "source": [
    "model.summary()"
   ]
  },
  {
   "cell_type": "code",
   "execution_count": 36,
   "metadata": {},
   "outputs": [],
   "source": [
    "# DEFINE TRAINING PARAMETER\n",
    "# OPTIMIZER\n",
    "# LOSS FUNCTION\n",
    "# ACCURACY METRICS\n",
    "\n",
    "optimizer = tf.keras.optimizers.Adam(0.001)\n",
    "# BINARY WORKS ONLY IF YOU HAVE 2 UNITS IN THE OUTPUT LAYER\n",
    "loss = tf.keras.losses.BinaryCrossentropy()\n",
    "accuracy = tf.keras.metrics.CategoricalAccuracy('accuracy')\n",
    "\n",
    "# COMPILE OUT MODEL\n",
    "model.compile(optimizer,loss=loss, metrics=[accuracy])"
   ]
  },
  {
   "cell_type": "code",
   "execution_count": 37,
   "metadata": {},
   "outputs": [
    {
     "name": "stdout",
     "output_type": "stream",
     "text": [
      "Epoch 1/50\n",
      "55/55 [==============================] - 1s 2ms/step - loss: 0.7764 - accuracy: 0.5901\n",
      "Epoch 2/50\n",
      "55/55 [==============================] - 0s 4ms/step - loss: 0.6300 - accuracy: 0.6430\n",
      "Epoch 3/50\n",
      "55/55 [==============================] - 0s 3ms/step - loss: 0.6223 - accuracy: 0.6825\n",
      "Epoch 4/50\n",
      "55/55 [==============================] - 0s 3ms/step - loss: 0.6028 - accuracy: 0.7012\n",
      "Epoch 5/50\n",
      "55/55 [==============================] - 0s 5ms/step - loss: 0.5861 - accuracy: 0.7078\n",
      "Epoch 6/50\n",
      "55/55 [==============================] - 0s 6ms/step - loss: 0.5695 - accuracy: 0.7356\n",
      "Epoch 7/50\n",
      "55/55 [==============================] - 0s 2ms/step - loss: 0.5564 - accuracy: 0.7719\n",
      "Epoch 8/50\n",
      "55/55 [==============================] - 0s 869us/step - loss: 0.5124 - accuracy: 0.8065\n",
      "Epoch 9/50\n",
      "55/55 [==============================] - 0s 879us/step - loss: 0.5090 - accuracy: 0.7859\n",
      "Epoch 10/50\n",
      "55/55 [==============================] - 0s 884us/step - loss: 0.5023 - accuracy: 0.7869\n",
      "Epoch 11/50\n",
      "55/55 [==============================] - 0s 896us/step - loss: 0.5041 - accuracy: 0.7833\n",
      "Epoch 12/50\n",
      "55/55 [==============================] - 0s 905us/step - loss: 0.4646 - accuracy: 0.8059\n",
      "Epoch 13/50\n",
      "55/55 [==============================] - 0s 978us/step - loss: 0.4737 - accuracy: 0.7799\n",
      "Epoch 14/50\n",
      "55/55 [==============================] - 0s 6ms/step - loss: 0.4582 - accuracy: 0.7998\n",
      "Epoch 15/50\n",
      "55/55 [==============================] - 0s 3ms/step - loss: 0.4691 - accuracy: 0.7809\n",
      "Epoch 16/50\n",
      "55/55 [==============================] - 0s 3ms/step - loss: 0.4247 - accuracy: 0.8248\n",
      "Epoch 17/50\n",
      "55/55 [==============================] - 0s 4ms/step - loss: 0.4937 - accuracy: 0.7718\n",
      "Epoch 18/50\n",
      "55/55 [==============================] - 0s 3ms/step - loss: 0.4550 - accuracy: 0.8032\n",
      "Epoch 19/50\n",
      "55/55 [==============================] - 0s 3ms/step - loss: 0.4612 - accuracy: 0.7929\n",
      "Epoch 20/50\n",
      "55/55 [==============================] - 0s 3ms/step - loss: 0.4425 - accuracy: 0.7976\n",
      "Epoch 21/50\n",
      "55/55 [==============================] - 0s 3ms/step - loss: 0.4555 - accuracy: 0.7983\n",
      "Epoch 22/50\n",
      "55/55 [==============================] - 0s 6ms/step - loss: 0.4634 - accuracy: 0.7835\n",
      "Epoch 23/50\n",
      "55/55 [==============================] - 0s 3ms/step - loss: 0.4800 - accuracy: 0.7815\n",
      "Epoch 24/50\n",
      "55/55 [==============================] - 0s 3ms/step - loss: 0.4349 - accuracy: 0.8090\n",
      "Epoch 25/50\n",
      "55/55 [==============================] - 0s 2ms/step - loss: 0.4725 - accuracy: 0.7788\n",
      "Epoch 26/50\n",
      "55/55 [==============================] - 0s 3ms/step - loss: 0.4578 - accuracy: 0.7687\n",
      "Epoch 27/50\n",
      "55/55 [==============================] - 0s 3ms/step - loss: 0.4678 - accuracy: 0.7958\n",
      "Epoch 28/50\n",
      "55/55 [==============================] - 0s 3ms/step - loss: 0.4322 - accuracy: 0.8160\n",
      "Epoch 29/50\n",
      "55/55 [==============================] - 0s 2ms/step - loss: 0.4725 - accuracy: 0.7817\n",
      "Epoch 30/50\n",
      "55/55 [==============================] - 0s 3ms/step - loss: 0.4593 - accuracy: 0.7758\n",
      "Epoch 31/50\n",
      "55/55 [==============================] - 0s 3ms/step - loss: 0.4426 - accuracy: 0.7836\n",
      "Epoch 32/50\n",
      "55/55 [==============================] - 0s 2ms/step - loss: 0.4500 - accuracy: 0.8066\n",
      "Epoch 33/50\n",
      "55/55 [==============================] - 0s 2ms/step - loss: 0.4289 - accuracy: 0.8114\n",
      "Epoch 34/50\n",
      "55/55 [==============================] - 0s 2ms/step - loss: 0.4360 - accuracy: 0.8214\n",
      "Epoch 35/50\n",
      "55/55 [==============================] - 0s 2ms/step - loss: 0.4410 - accuracy: 0.7991\n",
      "Epoch 36/50\n",
      "55/55 [==============================] - 0s 3ms/step - loss: 0.4063 - accuracy: 0.8152\n",
      "Epoch 37/50\n",
      "55/55 [==============================] - 0s 2ms/step - loss: 0.4240 - accuracy: 0.8134\n",
      "Epoch 38/50\n",
      "55/55 [==============================] - 0s 3ms/step - loss: 0.4392 - accuracy: 0.7967\n",
      "Epoch 39/50\n",
      "55/55 [==============================] - 0s 4ms/step - loss: 0.4341 - accuracy: 0.7996\n",
      "Epoch 40/50\n",
      "55/55 [==============================] - 0s 2ms/step - loss: 0.4391 - accuracy: 0.8124\n",
      "Epoch 41/50\n",
      "55/55 [==============================] - 0s 3ms/step - loss: 0.4566 - accuracy: 0.7971\n",
      "Epoch 42/50\n",
      "55/55 [==============================] - 0s 2ms/step - loss: 0.4595 - accuracy: 0.7842\n",
      "Epoch 43/50\n",
      "55/55 [==============================] - 0s 3ms/step - loss: 0.4229 - accuracy: 0.8137\n",
      "Epoch 44/50\n",
      "55/55 [==============================] - 0s 2ms/step - loss: 0.4403 - accuracy: 0.7902\n",
      "Epoch 45/50\n",
      "55/55 [==============================] - 0s 3ms/step - loss: 0.4390 - accuracy: 0.7966\n",
      "Epoch 46/50\n",
      "55/55 [==============================] - 0s 3ms/step - loss: 0.4452 - accuracy: 0.7921\n",
      "Epoch 47/50\n",
      "55/55 [==============================] - 0s 3ms/step - loss: 0.4477 - accuracy: 0.7848\n",
      "Epoch 48/50\n",
      "55/55 [==============================] - 0s 3ms/step - loss: 0.4358 - accuracy: 0.8102\n",
      "Epoch 49/50\n",
      "55/55 [==============================] - 0s 4ms/step - loss: 0.4130 - accuracy: 0.8073\n",
      "Epoch 50/50\n",
      "55/55 [==============================] - 0s 3ms/step - loss: 0.4202 - accuracy: 0.8041\n"
     ]
    }
   ],
   "source": [
    "# TRAINIGN THE DATA INTO HISTORY VARIABLE \n",
    "\n",
    "# epochs is the number of time the model will iterate for everysingle batch within our dataset\n",
    "history = model.fit(\n",
    "    dataset,epochs=50\n",
    ")"
   ]
  },
  {
   "cell_type": "code",
   "execution_count": 38,
   "metadata": {},
   "outputs": [],
   "source": [
    "import matplotlib.pyplot as plt"
   ]
  },
  {
   "cell_type": "code",
   "execution_count": 40,
   "metadata": {},
   "outputs": [],
   "source": [
    "num_epochs = len(history.history['accuracy'])"
   ]
  },
  {
   "cell_type": "code",
   "execution_count": 41,
   "metadata": {},
   "outputs": [
    {
     "name": "stdout",
     "output_type": "stream",
     "text": [
      "50\n"
     ]
    }
   ],
   "source": [
    "print(num_epochs)"
   ]
  },
  {
   "cell_type": "code",
   "execution_count": 42,
   "metadata": {},
   "outputs": [
    {
     "data": {
      "text/plain": [
       "[<matplotlib.lines.Line2D at 0x7faf5fd89b50>]"
      ]
     },
     "execution_count": 42,
     "metadata": {},
     "output_type": "execute_result"
    },
    {
     "data": {
      "image/png": "[encoded data removed]",
      "text/plain": [
       "<Figure size 432x288 with 1 Axes>"
      ]
     },
     "metadata": {
      "needs_background": "light"
     },
     "output_type": "display_data"
    }
   ],
   "source": [
    "plt.plot(range(num_epochs),history.history['accuracy'])"
   ]
  },
  {
   "cell_type": "code",
   "execution_count": 43,
   "metadata": {},
   "outputs": [
    {
     "data": {
      "text/plain": [
       "[<matplotlib.lines.Line2D at 0x7faf621e8d30>]"
      ]
     },
     "execution_count": 43,
     "metadata": {},
     "output_type": "execute_result"
    },
    {
     "data": {
      "image/png": "[encoded data removed]",
      "text/plain": [
       "<Figure size 432x288 with 1 Axes>"
      ]
     },
     "metadata": {
      "needs_background": "light"
     },
     "output_type": "display_data"
    }
   ],
   "source": [
    "plt.plot(range(num_epochs),history.history['loss'])"
   ]
  },
  {
   "cell_type": "code",
   "execution_count": null,
   "metadata": {},
   "outputs": [],
   "source": []
  }
 ],
 "metadata": {
  "kernelspec": {
   "display_name": "ML Environment (No CUDA)",
   "language": "python",
   "name": "venv"
  },
  "language_info": {
   "codemirror_mode": {
    "name": "ipython",
    "version": 3
   },
   "file_extension": ".py",
   "mimetype": "text/x-python",
   "name": "python",
   "nbconvert_exporter": "python",
   "pygments_lexer": "ipython3",
   "version": "3.8.0"
  }
 },
 "nbformat": 4,
 "nbformat_minor": 4
}
