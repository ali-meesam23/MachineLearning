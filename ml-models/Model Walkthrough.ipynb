{
 "cells": [
  {
   "cell_type": "code",
   "execution_count": 1,
   "metadata": {},
   "outputs": [],
   "source": [
    "import tensorflow as tf\n",
    "import pandas as pd\n",
    "import numpy as np"
   ]
  },
  {
   "cell_type": "code",
   "execution_count": 2,
   "metadata": {},
   "outputs": [],
   "source": [
    "data = pd.read_csv('../DataSetInput_Pipeline/train.csv')"
   ]
  },
  {
   "cell_type": "code",
   "execution_count": 3,
   "metadata": {},
   "outputs": [
    {
     "data": {
      "text/html": [
       "<div>\n",
       "<style scoped>\n",
       "    .dataframe tbody tr th:only-of-type {\n",
       "        vertical-align: middle;\n",
       "    }\n",
       "\n",
       "    .dataframe tbody tr th {\n",
       "        vertical-align: top;\n",
       "    }\n",
       "\n",
       "    .dataframe thead th {\n",
       "        text-align: right;\n",
       "    }\n",
       "</style>\n",
       "<table border=\"1\" class=\"dataframe\">\n",
       "  <thead>\n",
       "    <tr style=\"text-align: right;\">\n",
       "      <th></th>\n",
       "      <th>PassengerId</th>\n",
       "      <th>Survived</th>\n",
       "      <th>Pclass</th>\n",
       "      <th>Name</th>\n",
       "      <th>Sex</th>\n",
       "      <th>Age</th>\n",
       "      <th>SibSp</th>\n",
       "      <th>Parch</th>\n",
       "      <th>Ticket</th>\n",
       "      <th>Fare</th>\n",
       "      <th>Cabin</th>\n",
       "      <th>Embarked</th>\n",
       "    </tr>\n",
       "  </thead>\n",
       "  <tbody>\n",
       "    <tr>\n",
       "      <th>0</th>\n",
       "      <td>1</td>\n",
       "      <td>0</td>\n",
       "      <td>3</td>\n",
       "      <td>Braund, Mr. Owen Harris</td>\n",
       "      <td>male</td>\n",
       "      <td>22.0</td>\n",
       "      <td>1</td>\n",
       "      <td>0</td>\n",
       "      <td>A/5 21171</td>\n",
       "      <td>7.2500</td>\n",
       "      <td>NaN</td>\n",
       "      <td>S</td>\n",
       "    </tr>\n",
       "    <tr>\n",
       "      <th>1</th>\n",
       "      <td>2</td>\n",
       "      <td>1</td>\n",
       "      <td>1</td>\n",
       "      <td>Cumings, Mrs. John Bradley (Florence Briggs Th...</td>\n",
       "      <td>female</td>\n",
       "      <td>38.0</td>\n",
       "      <td>1</td>\n",
       "      <td>0</td>\n",
       "      <td>PC 17599</td>\n",
       "      <td>71.2833</td>\n",
       "      <td>C85</td>\n",
       "      <td>C</td>\n",
       "    </tr>\n",
       "    <tr>\n",
       "      <th>2</th>\n",
       "      <td>3</td>\n",
       "      <td>1</td>\n",
       "      <td>3</td>\n",
       "      <td>Heikkinen, Miss. Laina</td>\n",
       "      <td>female</td>\n",
       "      <td>26.0</td>\n",
       "      <td>0</td>\n",
       "      <td>0</td>\n",
       "      <td>STON/O2. 3101282</td>\n",
       "      <td>7.9250</td>\n",
       "      <td>NaN</td>\n",
       "      <td>S</td>\n",
       "    </tr>\n",
       "    <tr>\n",
       "      <th>3</th>\n",
       "      <td>4</td>\n",
       "      <td>1</td>\n",
       "      <td>1</td>\n",
       "      <td>Futrelle, Mrs. Jacques Heath (Lily May Peel)</td>\n",
       "      <td>female</td>\n",
       "      <td>35.0</td>\n",
       "      <td>1</td>\n",
       "      <td>0</td>\n",
       "      <td>113803</td>\n",
       "      <td>53.1000</td>\n",
       "      <td>C123</td>\n",
       "      <td>S</td>\n",
       "    </tr>\n",
       "    <tr>\n",
       "      <th>4</th>\n",
       "      <td>5</td>\n",
       "      <td>0</td>\n",
       "      <td>3</td>\n",
       "      <td>Allen, Mr. William Henry</td>\n",
       "      <td>male</td>\n",
       "      <td>35.0</td>\n",
       "      <td>0</td>\n",
       "      <td>0</td>\n",
       "      <td>373450</td>\n",
       "      <td>8.0500</td>\n",
       "      <td>NaN</td>\n",
       "      <td>S</td>\n",
       "    </tr>\n",
       "  </tbody>\n",
       "</table>\n",
       "</div>"
      ],
      "text/plain": [
       "   PassengerId  Survived  Pclass  \\\n",
       "0            1         0       3   \n",
       "1            2         1       1   \n",
       "2            3         1       3   \n",
       "3            4         1       1   \n",
       "4            5         0       3   \n",
       "\n",
       "                                                Name     Sex   Age  SibSp  \\\n",
       "0                            Braund, Mr. Owen Harris    male  22.0      1   \n",
       "1  Cumings, Mrs. John Bradley (Florence Briggs Th...  female  38.0      1   \n",
       "2                             Heikkinen, Miss. Laina  female  26.0      0   \n",
       "3       Futrelle, Mrs. Jacques Heath (Lily May Peel)  female  35.0      1   \n",
       "4                           Allen, Mr. William Henry    male  35.0      0   \n",
       "\n",
       "   Parch            Ticket     Fare Cabin Embarked  \n",
       "0      0         A/5 21171   7.2500   NaN        S  \n",
       "1      0          PC 17599  71.2833   C85        C  \n",
       "2      0  STON/O2. 3101282   7.9250   NaN        S  \n",
       "3      0            113803  53.1000  C123        S  \n",
       "4      0            373450   8.0500   NaN        S  "
      ]
     },
     "execution_count": 3,
     "metadata": {},
     "output_type": "execute_result"
    }
   ],
   "source": [
    "data.head()"
   ]
  },
  {
   "cell_type": "code",
   "execution_count": 4,
   "metadata": {},
   "outputs": [
    {
     "data": {
      "text/plain": [
       "array(['S', 'C', 'Q', nan], dtype=object)"
      ]
     },
     "execution_count": 4,
     "metadata": {},
     "output_type": "execute_result"
    }
   ],
   "source": [
    "data.Embarked.unique()"
   ]
  },
  {
   "cell_type": "code",
   "execution_count": 5,
   "metadata": {},
   "outputs": [],
   "source": [
    "# NEED TO ASSIGN # TO EMBARKED ELEMENTS BETWEEN 0 AND 1"
   ]
  },
  {
   "cell_type": "code",
   "execution_count": 6,
   "metadata": {},
   "outputs": [],
   "source": [
    "# NORMALIZING PCLASS\n",
    "p_class_max = data.Pclass.max()\n",
    "data['pclass_norm'] = data['Pclass'].apply(lambda x: x/p_class_max)"
   ]
  },
  {
   "cell_type": "code",
   "execution_count": 7,
   "metadata": {},
   "outputs": [],
   "source": [
    "age_max = data.Pclass.max()\n",
    "data['age_norm'] = data['Age'].apply(lambda x: x/p_class_max)"
   ]
  },
  {
   "cell_type": "code",
   "execution_count": 8,
   "metadata": {},
   "outputs": [],
   "source": [
    "data['sex_norm'] = data['Sex'].apply(lambda x: 0 if x=='male' else 1)"
   ]
  },
  {
   "cell_type": "code",
   "execution_count": 9,
   "metadata": {},
   "outputs": [],
   "source": [
    "def embarked2num(x):\n",
    "    if x == 'S':\n",
    "        return 1.0\n",
    "    elif x == 'C':\n",
    "        return 2/3\n",
    "    elif x == 'Q':\n",
    "        return 1/3\n",
    "    else:\n",
    "        return 0\n",
    "    \n",
    "data['embarked_norm'] = data['Embarked'].apply(embarked2num)"
   ]
  },
  {
   "cell_type": "code",
   "execution_count": 10,
   "metadata": {},
   "outputs": [],
   "source": [
    "# Pass each of the input columns into input array\n",
    "inputs = data[['pclass_norm','sex_norm','age_norm','embarked_norm']].fillna(0).values"
   ]
  },
  {
   "cell_type": "code",
   "execution_count": 11,
   "metadata": {},
   "outputs": [],
   "source": [
    "survived_arr = data['Survived']"
   ]
  },
  {
   "cell_type": "code",
   "execution_count": 12,
   "metadata": {},
   "outputs": [],
   "source": [
    "labels = np.zeros((survived_arr.size,survived_arr.max()+1))"
   ]
  },
  {
   "cell_type": "code",
   "execution_count": 13,
   "metadata": {},
   "outputs": [],
   "source": [
    "labels[np.arange(survived_arr.size),survived_arr] = 1"
   ]
  },
  {
   "cell_type": "code",
   "execution_count": 14,
   "metadata": {},
   "outputs": [
    {
     "data": {
      "text/plain": [
       "array([[1., 0.],\n",
       "       [0., 1.],\n",
       "       [0., 1.],\n",
       "       ...,\n",
       "       [1., 0.],\n",
       "       [0., 1.],\n",
       "       [1., 0.]])"
      ]
     },
     "execution_count": 14,
     "metadata": {},
     "output_type": "execute_result"
    }
   ],
   "source": [
    "labels"
   ]
  },
  {
   "cell_type": "code",
   "execution_count": 15,
   "metadata": {},
   "outputs": [],
   "source": [
    "dataset = tf.data.Dataset.from_tensor_slices((inputs,labels))"
   ]
  },
  {
   "cell_type": "code",
   "execution_count": 16,
   "metadata": {},
   "outputs": [
    {
     "name": "stdout",
     "output_type": "stream",
     "text": [
      "(<tf.Tensor: shape=(4,), dtype=float64, numpy=array([1.        , 0.        , 7.33333333, 1.        ])>, <tf.Tensor: shape=(2,), dtype=float64, numpy=array([1., 0.])>)\n"
     ]
    }
   ],
   "source": [
    "for item in dataset.take(1):\n",
    "    print(item)"
   ]
  },
  {
   "cell_type": "code",
   "execution_count": 17,
   "metadata": {},
   "outputs": [],
   "source": [
    "dataset = dataset.shuffle(10000).batch(16,drop_remainder=True)"
   ]
  },
  {
   "cell_type": "code",
   "execution_count": 18,
   "metadata": {},
   "outputs": [],
   "source": [
    "# Using sequential approach\n",
    "\n",
    "\n",
    "# using 3 layers\n",
    "model = tf.keras.Sequential(\n",
    "    [\n",
    "        #DEFINE INPUT SHAPE\n",
    "        tf.keras.layers.Dense(16,input_shape=(4,), activation='relu'),\n",
    "        #RECTIFIED LINEAR ACTIVATION\n",
    "        tf.keras.layers.Dense(8, activation='relu'),\n",
    "        #OUTPUT LAYER\n",
    "        tf.keras.layers.Dense(2, activation='softmax')\n",
    "    ]\n",
    ")"
   ]
  },
  {
   "cell_type": "code",
   "execution_count": 19,
   "metadata": {},
   "outputs": [
    {
     "name": "stdout",
     "output_type": "stream",
     "text": [
      "Model: \"sequential\"\n",
      "_________________________________________________________________\n",
      "Layer (type)                 Output Shape              Param #   \n",
      "=================================================================\n",
      "dense (Dense)                (None, 16)                80        \n",
      "_________________________________________________________________\n",
      "dense_1 (Dense)              (None, 8)                 136       \n",
      "_________________________________________________________________\n",
      "dense_2 (Dense)              (None, 2)                 18        \n",
      "=================================================================\n",
      "Total params: 234\n",
      "Trainable params: 234\n",
      "Non-trainable params: 0\n",
      "_________________________________________________________________\n"
     ]
    }
   ],
   "source": [
    "model.summary()"
   ]
  },
  {
   "cell_type": "code",
   "execution_count": 20,
   "metadata": {},
   "outputs": [],
   "source": [
    "# DEFINE TRAINING PARAMETER\n",
    "# OPTIMIZER\n",
    "# LOSS FUNCTION\n",
    "# ACCURACY METRICS\n",
    "\n",
    "optimizer = tf.keras.optimizers.Adam(0.001)\n",
    "# BINARY WORKS ONLY IF YOU HAVE 2 UNITS IN THE OUTPUT LAYER\n",
    "loss = tf.keras.losses.BinaryCrossentropy()\n",
    "accuracy = tf.keras.metrics.CategoricalAccuracy('accuracy')\n",
    "\n",
    "# COMPILE OUT MODEL\n",
    "model.compile(optimizer,loss=loss, metrics=[accuracy])"
   ]
  },
  {
   "cell_type": "code",
   "execution_count": 21,
   "metadata": {},
   "outputs": [
    {
     "name": "stdout",
     "output_type": "stream",
     "text": [
      "Epoch 1/50\n",
      "55/55 [==============================] - 1s 18ms/step - loss: 0.6885 - accuracy: 0.6114\n",
      "Epoch 2/50\n",
      "55/55 [==============================] - 1s 10ms/step - loss: 0.6686 - accuracy: 0.6182\n",
      "Epoch 3/50\n",
      "55/55 [==============================] - 1s 10ms/step - loss: 0.6462 - accuracy: 0.6398\n",
      "Epoch 4/50\n",
      "55/55 [==============================] - 1s 10ms/step - loss: 0.5996 - accuracy: 0.6977\n",
      "Epoch 5/50\n",
      "55/55 [==============================] - 1s 10ms/step - loss: 0.5565 - accuracy: 0.7602\n",
      "Epoch 6/50\n",
      "55/55 [==============================] - 1s 10ms/step - loss: 0.5295 - accuracy: 0.7682\n",
      "Epoch 7/50\n",
      "55/55 [==============================] - 1s 10ms/step - loss: 0.5040 - accuracy: 0.7864\n",
      "Epoch 8/50\n",
      "55/55 [==============================] - 1s 9ms/step - loss: 0.4942 - accuracy: 0.7852\n",
      "Epoch 9/50\n",
      "55/55 [==============================] - 1s 10ms/step - loss: 0.4845 - accuracy: 0.7875\n",
      "Epoch 10/50\n",
      "55/55 [==============================] - 1s 10ms/step - loss: 0.4818 - accuracy: 0.7852\n",
      "Epoch 11/50\n",
      "55/55 [==============================] - 1s 10ms/step - loss: 0.4742 - accuracy: 0.7886\n",
      "Epoch 12/50\n",
      "55/55 [==============================] - 1s 10ms/step - loss: 0.4760 - accuracy: 0.7818\n",
      "Epoch 13/50\n",
      "55/55 [==============================] - 1s 10ms/step - loss: 0.4697 - accuracy: 0.7875\n",
      "Epoch 14/50\n",
      "55/55 [==============================] - 1s 10ms/step - loss: 0.4678 - accuracy: 0.7875\n",
      "Epoch 15/50\n",
      "55/55 [==============================] - 1s 10ms/step - loss: 0.4686 - accuracy: 0.7864\n",
      "Epoch 16/50\n",
      "55/55 [==============================] - 1s 10ms/step - loss: 0.4685 - accuracy: 0.7852\n",
      "Epoch 17/50\n",
      "55/55 [==============================] - 1s 10ms/step - loss: 0.4654 - accuracy: 0.7852\n",
      "Epoch 18/50\n",
      "55/55 [==============================] - 1s 10ms/step - loss: 0.4664 - accuracy: 0.7841\n",
      "Epoch 19/50\n",
      "55/55 [==============================] - 1s 10ms/step - loss: 0.4627 - accuracy: 0.7875\n",
      "Epoch 20/50\n",
      "55/55 [==============================] - 1s 10ms/step - loss: 0.4582 - accuracy: 0.7852 0s - loss: 0.4318 - ac\n",
      "Epoch 21/50\n",
      "55/55 [==============================] - 1s 10ms/step - loss: 0.4545 - accuracy: 0.7875\n",
      "Epoch 22/50\n",
      "55/55 [==============================] - 1s 10ms/step - loss: 0.4604 - accuracy: 0.7841\n",
      "Epoch 23/50\n",
      "55/55 [==============================] - 1s 10ms/step - loss: 0.4582 - accuracy: 0.7864\n",
      "Epoch 24/50\n",
      "55/55 [==============================] - 1s 10ms/step - loss: 0.4554 - accuracy: 0.7875\n",
      "Epoch 25/50\n",
      "55/55 [==============================] - 1s 10ms/step - loss: 0.4507 - accuracy: 0.7875\n",
      "Epoch 26/50\n",
      "55/55 [==============================] - 1s 10ms/step - loss: 0.4559 - accuracy: 0.7920\n",
      "Epoch 27/50\n",
      "55/55 [==============================] - 1s 10ms/step - loss: 0.4522 - accuracy: 0.7898\n",
      "Epoch 28/50\n",
      "55/55 [==============================] - 1s 10ms/step - loss: 0.4522 - accuracy: 0.7898\n",
      "Epoch 29/50\n",
      "55/55 [==============================] - 1s 10ms/step - loss: 0.4511 - accuracy: 0.7886\n",
      "Epoch 30/50\n",
      "55/55 [==============================] - 1s 10ms/step - loss: 0.4516 - accuracy: 0.7841\n",
      "Epoch 31/50\n",
      "55/55 [==============================] - 1s 10ms/step - loss: 0.4457 - accuracy: 0.7886\n",
      "Epoch 32/50\n",
      "55/55 [==============================] - 1s 10ms/step - loss: 0.4423 - accuracy: 0.8045\n",
      "Epoch 33/50\n",
      "55/55 [==============================] - 1s 10ms/step - loss: 0.4442 - accuracy: 0.7864\n",
      "Epoch 34/50\n",
      "55/55 [==============================] - 1s 10ms/step - loss: 0.4478 - accuracy: 0.7864\n",
      "Epoch 35/50\n",
      "55/55 [==============================] - 1s 10ms/step - loss: 0.4431 - accuracy: 0.7920\n",
      "Epoch 36/50\n",
      "55/55 [==============================] - 1s 10ms/step - loss: 0.4417 - accuracy: 0.7886\n",
      "Epoch 37/50\n",
      "55/55 [==============================] - 1s 10ms/step - loss: 0.4407 - accuracy: 0.7875\n",
      "Epoch 38/50\n",
      "55/55 [==============================] - 1s 10ms/step - loss: 0.4352 - accuracy: 0.7955\n",
      "Epoch 39/50\n",
      "55/55 [==============================] - 1s 10ms/step - loss: 0.4385 - accuracy: 0.7966\n",
      "Epoch 40/50\n",
      "55/55 [==============================] - 1s 10ms/step - loss: 0.4392 - accuracy: 0.7886\n",
      "Epoch 41/50\n",
      "55/55 [==============================] - 1s 10ms/step - loss: 0.4369 - accuracy: 0.8000\n",
      "Epoch 42/50\n",
      "55/55 [==============================] - 1s 10ms/step - loss: 0.4377 - accuracy: 0.8011\n",
      "Epoch 43/50\n",
      "55/55 [==============================] - 1s 10ms/step - loss: 0.4375 - accuracy: 0.7989 0s - loss: 0.4521 - ac\n",
      "Epoch 44/50\n",
      "55/55 [==============================] - 1s 10ms/step - loss: 0.4399 - accuracy: 0.7977\n",
      "Epoch 45/50\n",
      "55/55 [==============================] - 1s 10ms/step - loss: 0.4309 - accuracy: 0.8114\n",
      "Epoch 46/50\n",
      "55/55 [==============================] - 1s 10ms/step - loss: 0.4308 - accuracy: 0.8080\n",
      "Epoch 47/50\n",
      "55/55 [==============================] - 1s 10ms/step - loss: 0.4313 - accuracy: 0.8102\n",
      "Epoch 48/50\n",
      "55/55 [==============================] - 1s 10ms/step - loss: 0.4254 - accuracy: 0.8057\n",
      "Epoch 49/50\n",
      "55/55 [==============================] - 1s 10ms/step - loss: 0.4337 - accuracy: 0.8023\n",
      "Epoch 50/50\n",
      "55/55 [==============================] - 1s 10ms/step - loss: 0.4260 - accuracy: 0.8136\n"
     ]
    }
   ],
   "source": [
    "# TRAINIGN THE DATA INTO HISTORY VARIABLE \n",
    "\n",
    "# epochs is the number of time the model will iterate for everysingle batch within our dataset\n",
    "history = model.fit(\n",
    "    dataset,epochs=50\n",
    ")"
   ]
  },
  {
   "cell_type": "code",
   "execution_count": 22,
   "metadata": {},
   "outputs": [],
   "source": [
    "import matplotlib.pyplot as plt"
   ]
  },
  {
   "cell_type": "code",
   "execution_count": 23,
   "metadata": {},
   "outputs": [],
   "source": [
    "num_epochs = len(history.history['accuracy'])"
   ]
  },
  {
   "cell_type": "code",
   "execution_count": 24,
   "metadata": {},
   "outputs": [
    {
     "name": "stdout",
     "output_type": "stream",
     "text": [
      "50\n"
     ]
    }
   ],
   "source": [
    "print(num_epochs)"
   ]
  },
  {
   "cell_type": "code",
   "execution_count": 25,
   "metadata": {},
   "outputs": [
    {
     "data": {
      "text/plain": [
       "[<matplotlib.lines.Line2D at 0x7eb0275c88>]"
      ]
     },
     "execution_count": 25,
     "metadata": {},
     "output_type": "execute_result"
    },
    {
     "data": {
      "image/png": "[encoded data removed]",
      "text/plain": [
       "<Figure size 432x288 with 1 Axes>"
      ]
     },
     "metadata": {
      "needs_background": "light"
     },
     "output_type": "display_data"
    }
   ],
   "source": [
    "plt.plot(range(num_epochs),history.history['accuracy'])"
   ]
  },
  {
   "cell_type": "code",
   "execution_count": 26,
   "metadata": {},
   "outputs": [
    {
     "data": {
      "text/plain": [
       "[<matplotlib.lines.Line2D at 0x7eb01c1fd0>]"
      ]
     },
     "execution_count": 26,
     "metadata": {},
     "output_type": "execute_result"
    },
    {
     "data": {
      "image/png": "[encoded data removed]",
      "text/plain": [
       "<Figure size 432x288 with 1 Axes>"
      ]
     },
     "metadata": {
      "needs_background": "light"
     },
     "output_type": "display_data"
    }
   ],
   "source": [
    "plt.plot(range(num_epochs),history.history['loss'])"
   ]
  },
  {
   "cell_type": "code",
   "execution_count": null,
   "metadata": {},
   "outputs": [],
   "source": []
  }
 ],
 "metadata": {
  "kernelspec": {
   "display_name": "Python 3",
   "language": "python",
   "name": "python3"
  },
  "language_info": {
   "codemirror_mode": {
    "name": "ipython",
    "version": 3
   },
   "file_extension": ".py",
   "mimetype": "text/x-python",
   "name": "python",
   "nbconvert_exporter": "python",
   "pygments_lexer": "ipython3",
   "version": "3.6.9"
  }
 },
 "nbformat": 4,
 "nbformat_minor": 4
}
